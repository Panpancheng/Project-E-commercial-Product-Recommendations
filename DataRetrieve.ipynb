{
 "cells": [
  {
   "cell_type": "code",
   "execution_count": 10,
   "metadata": {
    "collapsed": false
   },
   "outputs": [],
   "source": [
    "import re\n",
    "\n",
    "#-------------- REGEX ---------------\n",
    "PID = r'Id:\\s*(\\d+)'\n",
    "GID = r'group:\\s*(\\w+)'\n",
    "CID = r'cutomer:\\s*(\\w+)'\n",
    "RATE = r'rating:\\s*(\\d+)'\n",
    "\n",
    "f = open('amazon-meta.txt', 'r')\n",
    "fgraph = open('rater.txt', 'w')\n",
    "\n",
    "for line in f:\n",
    "    #read ID\n",
    "    pid_temp = re.search(PID, line)\n",
    "    if pid_temp:\n",
    "        pid = pid_temp.group(1) #get the first digit matches regex\n",
    "    \n",
    "    #read client id & rating\n",
    "    client_tmp = re.search(CID,line)\n",
    "    rate_tmp = re.search(RATE,line)\n",
    "    if client_tmp:\n",
    "        client = client_tmp.group(1)\n",
    "        rate = rate_tmp.group(1)\n",
    "        outputLine = pid + \"\\t\" + client + \"\\t\" + rate + \"\\n\" \n",
    "        fgraph.write(outputLine)\n",
    "\n",
    "f.close()\n",
    "fgraph.close()"
   ]
  },
  {
   "cell_type": "code",
   "execution_count": null,
   "metadata": {
    "collapsed": true
   },
   "outputs": [],
   "source": []
  }
 ],
 "metadata": {
  "anaconda-cloud": {},
  "kernelspec": {
   "display_name": "Python [Root]",
   "language": "python",
   "name": "Python [Root]"
  },
  "language_info": {
   "codemirror_mode": {
    "name": "ipython",
    "version": 2
   },
   "file_extension": ".py",
   "mimetype": "text/x-python",
   "name": "python",
   "nbconvert_exporter": "python",
   "pygments_lexer": "ipython2",
   "version": "2.7.12"
  }
 },
 "nbformat": 4,
 "nbformat_minor": 0
}
